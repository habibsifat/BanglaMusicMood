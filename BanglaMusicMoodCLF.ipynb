{
  "nbformat": 4,
  "nbformat_minor": 0,
  "metadata": {
    "colab": {
      "name": "BanglaMusicMoodCLF.ipynb",
      "provenance": [],
      "collapsed_sections": [],
      "include_colab_link": true
    },
    "kernelspec": {
      "name": "python3",
      "display_name": "Python 3"
    }
  },
  "cells": [
    {
      "cell_type": "markdown",
      "metadata": {
        "id": "view-in-github",
        "colab_type": "text"
      },
      "source": [
        "<a href=\"https://colab.research.google.com/github/habibsifat/BanglaMusicMood/blob/master/BanglaMusicMoodCLF.ipynb\" target=\"_parent\"><img src=\"https://colab.research.google.com/assets/colab-badge.svg\" alt=\"Open In Colab\"/></a>"
      ]
    },
    {
      "cell_type": "code",
      "metadata": {
        "id": "HdDAATbZEYyR",
        "colab_type": "code",
        "colab": {}
      },
      "source": [
        "# Import packages\n",
        "import pickle\n",
        "import string\n",
        "import re\n",
        "import unicodedata\n",
        "import numpy as np\n",
        "import pandas as pd\n",
        "from sklearn.preprocessing import LabelEncoder"
      ],
      "execution_count": 0,
      "outputs": []
    },
    {
      "cell_type": "code",
      "metadata": {
        "id": "qnWjZ5mpEveG",
        "colab_type": "code",
        "colab": {}
      },
      "source": [
        "#Load Dataset\n",
        "df = pd.read_csv('/content/train_lyrics_bangla.txt')\n",
        "with open('/content/stopwords_bangla.txt', 'r') as infile:\n",
        "   stop_words = infile.read().splitlines()\n",
        "#print('stop words %s ...' %stop_words[:])\n",
        "df.head()"
      ],
      "execution_count": 0,
      "outputs": []
    },
    {
      "cell_type": "code",
      "metadata": {
        "id": "wJcle-OHFCXF",
        "colab_type": "code",
        "colab": {}
      },
      "source": [
        "#Build Tokenizer for Bangla\n",
        "!pip install cltk\n",
        "from cltk.tokenize.sentence import TokenizeSentence\n",
        "def porter_tokenizer(text):\n",
        "    tokenizer = TokenizeSentence('bengali')\n",
        "    bengali_text_tokenize = tokenizer.tokenize(text)\n",
        "    bengali_text_tokenize\n",
        "    return bengali_text_tokenize"
      ],
      "execution_count": 0,
      "outputs": []
    },
    {
      "cell_type": "code",
      "metadata": {
        "id": "PKrRWHGQFGSn",
        "colab_type": "code",
        "colab": {}
      },
      "source": [
        "#Generate Token from Corpus\n",
        "import nltk\n",
        "lyrics = df.lyrics.str.cat(sep=' ')\n",
        "#function to split text into word\n",
        "tokens = porter_tokenizer(lyrics)\n",
        "vocabulary = set(tokens)\n",
        "print(len(vocabulary))\n",
        "frequency_dist = nltk.FreqDist(tokens)\n",
        "sorted(frequency_dist,key=frequency_dist.__getitem__, reverse=True)[0:50]"
      ],
      "execution_count": 0,
      "outputs": []
    },
    {
      "cell_type": "code",
      "metadata": {
        "id": "yZgi-BzMFoEL",
        "colab_type": "code",
        "colab": {}
      },
      "source": [
        "# Remove stop words form corpus\n",
        "tokens = [w for w in tokens if not w in stop_words]"
      ],
      "execution_count": 0,
      "outputs": []
    },
    {
      "cell_type": "code",
      "metadata": {
        "id": "9wyd6Oa9Fr1E",
        "colab_type": "code",
        "colab": {}
      },
      "source": [
        "#Split Dataset into Train and Test\n",
        "train_x = df.loc[:31, 'lyrics'].values\n",
        "Y_train = df.loc[:31, 'mood'].values\n",
        "test_x = df.loc[32:, 'lyrics'].values\n",
        "Y_test = df.loc[32:, 'mood'].values"
      ],
      "execution_count": 0,
      "outputs": []
    },
    {
      "cell_type": "code",
      "metadata": {
        "id": "ZMuTCY0rFufb",
        "colab_type": "code",
        "colab": {}
      },
      "source": [
        "#Feature Extraction using Tf-Idf\n",
        "from sklearn.feature_extraction.text import TfidfTransformer\n",
        "from sklearn.feature_extraction.text import TfidfVectorizer\n",
        "vectorizer = TfidfVectorizer()\n",
        "X_train = vectorizer.fit_transform(train_x)\n",
        "X_test = vectorizer.transform(test_x)\n",
        "print(X_train.shape, X_test.shape)"
      ],
      "execution_count": 0,
      "outputs": []
    },
    {
      "cell_type": "code",
      "metadata": {
        "id": "iiMS4ijyFyGs",
        "colab_type": "code",
        "colab": {}
      },
      "source": [
        "#Naive Bayes Algorithm\n",
        "from sklearn.naive_bayes import MultinomialNB\n",
        "from  sklearn.metrics  import accuracy_score\n",
        "model = MultinomialNB().fit(X_train, Y_train)\n",
        "# Predict Output \n",
        "NBpred = model.predict(X_test)\n",
        "print(\"Train Accuracy :: \", accuracy_score(Y_train,model.predict(X_train)))\n",
        "print(\"Test Accuracy  :: \", accuracy_score(Y_test, NBpred))\n",
        "cm1=confusion_matrix(Y_test, NBpred)\n",
        "print(confusion_matrix(Y_test, NBpred))"
      ],
      "execution_count": 0,
      "outputs": []
    },
    {
      "cell_type": "code",
      "metadata": {
        "id": "gxqiLAgHGMOZ",
        "colab_type": "code",
        "colab": {}
      },
      "source": [
        "#Decision Tree Algorithm\n",
        "from sklearn.tree import DecisionTreeClassifier\n",
        "classifier = DecisionTreeClassifier()\n",
        "classifier.fit(X_train, Y_train)\n",
        "Y_pred = classifier.predict(X_test)\n",
        "print(\"Train Accuracy :: \", accuracy_score(Y_train,classifier.predict(X_train)))\n",
        "print(\"Test Accuracy  :: \", accuracy_score(Y_test, Y_pred))\n",
        "cm1=confusion_matrix(Y_test, Y_pred)\n",
        "print(confusion_matrix(Y_test, Y_pred))"
      ],
      "execution_count": 0,
      "outputs": []
    },
    {
      "cell_type": "code",
      "metadata": {
        "id": "0sCNkgEtGU8A",
        "colab_type": "code",
        "colab": {}
      },
      "source": [
        "#SVM Algorithm\n",
        "from sklearn.svm import SVC,SVR\n",
        "svclassifier = SVC(kernel='linear')\n",
        "svclassifier.fit(X_train, Y_train)\n",
        "SVM_pred = svclassifier.predict(X_test)\n",
        "print(\"Train Accuracy :: \", accuracy_score(Y_train,svclassifier.predict(X_train)))\n",
        "print(\"Test Accuracy  :: \", accuracy_score(Y_test, SVM_pred))\n",
        "cm1=confusion_matrix(Y_test, SVM_pred)\n",
        "print(confusion_matrix(Y_test, SVM_pred))"
      ],
      "execution_count": 0,
      "outputs": []
    },
    {
      "cell_type": "code",
      "metadata": {
        "id": "8tUwO9ovGfeF",
        "colab_type": "code",
        "colab": {}
      },
      "source": [
        "#Random Forest Algorithm\n",
        "clf = RandomForestClassifier(n_estimators=20, max_depth=5,random_state=42)\n",
        "model=clf.fit(X_train, Y_train)\n",
        "print(\"Trained model :: \",model)\n",
        "predictions =model.predict(X_test)\n",
        "print(\"Train Accuracy :: \", accuracy_score(Y_train,model.predict(X_train)))\n",
        "print(\"Test Accuracy  :: \", accuracy_score(Y_test, predictions))\n",
        "cm1=confusion_matrix(Y_test, predictions)\n",
        "print(confusion_matrix(Y_test, predictions))"
      ],
      "execution_count": 0,
      "outputs": []
    },
    {
      "cell_type": "code",
      "metadata": {
        "id": "WT7MkNliG1qM",
        "colab_type": "code",
        "colab": {}
      },
      "source": [
        "#Ada-Boost Algorithm\n",
        "from sklearn.ensemble import AdaBoostClassifier\n",
        "clf = AdaBoostClassifier(n_estimators=100, random_state=0)\n",
        "Model=clf.fit(X_train,Y_train)  \n",
        "print(\"Trained model :: \",Model)\n",
        "Ada_pred =Model.predict(X_test)\n",
        "print(\"Train Accuracy :: \", accuracy_score(Y_train,Model.predict(X_train)))\n",
        "print(\"Test Accuracy  :: \", accuracy_score(Y_test, Ada_pred))\n",
        "cm1=confusion_matrix(Y_test, Ada_pred)\n",
        "print(confusion_matrix(Y_test, Ada_pred))"
      ],
      "execution_count": 0,
      "outputs": []
    },
    {
      "cell_type": "code",
      "metadata": {
        "id": "wUEUSv-iG6wt",
        "colab_type": "code",
        "colab": {}
      },
      "source": [
        "#Balance Bagging Algorithm\n",
        ">>> from imblearn.ensemble import BalancedBaggingClassifier\n",
        ">>> bbc = BalancedBaggingClassifier(base_estimator=DecisionTreeClassifier(),\n",
        "...                                 sampling_strategy='auto',\n",
        "...                                 replacement=False,\n",
        "...                                 random_state=0)\n",
        ">>> bbc.fit(X_train, Y_train)\n",
        "Bagpred = bbc.predict(X_test)\n",
        "\n",
        "print(\"Train Accuracy :: \", accuracy_score(Y_train,bbc.predict(X_train)))\n",
        "print(\"Test Accuracy  :: \", accuracy_score(Y_test, Bagpred))\n",
        "\n",
        "\n",
        "from sklearn.metrics import classification_report, confusion_matrix\n",
        "cm1=confusion_matrix(Y_test, Bagpred)\n",
        "print(confusion_matrix(Y_test, Bagpred))\n",
        "print(classification_report(Y_test, Y_pred))"
      ],
      "execution_count": 0,
      "outputs": []
    },
    {
      "cell_type": "code",
      "metadata": {
        "id": "LvdBl0v0HIXd",
        "colab_type": "code",
        "colab": {}
      },
      "source": [
        "#Bagging Algorithm\n",
        ">>> from sklearn.svm import SVC\n",
        ">>> from sklearn.ensemble import BaggingClassifier\n",
        ">>> from sklearn.datasets import make_classification\n",
        ">>> X, y = make_classification(n_samples=100, n_features=4,\n",
        "...                            n_informative=2, n_redundant=0,\n",
        "...                            random_state=0, shuffle=False)\n",
        ">>> Model = BaggingClassifier(base_estimator=SVC(),\n",
        "...                         n_estimators=10, random_state=0).fit(X_train, Y_train)\n",
        "\n",
        "print(\"Trained model :: \",Model)\n",
        "pred =Model.predict(X_test)\n",
        "print(\"Train Accuracy :: \", accuracy_score(Y_train,Model.predict(X_train)))\n",
        "print(\"Test Accuracy  :: \", accuracy_score(Y_test, pred))\n",
        "cm1=confusion_matrix(Y_test, pred)\n",
        "print(confusion_matrix(Y_test, pred))"
      ],
      "execution_count": 0,
      "outputs": []
    }
  ]
}